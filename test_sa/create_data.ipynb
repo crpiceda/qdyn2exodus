{
 "cells": [
  {
   "cell_type": "code",
   "execution_count": 1,
   "id": "47b3c820",
   "metadata": {},
   "outputs": [
    {
     "name": "stdout",
     "output_type": "stream",
     "text": [
      "-6856.778612763859 6856.778612763858\n",
      "done!\n"
     ]
    }
   ],
   "source": [
    "import matplotlib.pyplot as plt\n",
    "import numpy as np\n",
    "import scipy.stats as stats\n",
    "import seaborn as sns\n",
    "import random as rn\n",
    "from matplotlib import pylab as py\n",
    "import pandas as pd\n",
    "\n",
    "p1 = [-4065.11589,9174.03589,-11700.7397]\n",
    "p2 = [15994.8315,-18401.4698,-11700.7397]\n",
    "p3 = [20369.3205,-15219.2246,-100]\n",
    "\n",
    "v1=np.array(p1)\n",
    "v2=np.array(p2)\n",
    "v3=np.array(p3)\n",
    "\n",
    "v12=v1-v2\n",
    "v32=v3-v1\n",
    "\n",
    "n=np.cross(v1-v2,v3-v1)\n",
    "nn = n / np.sqrt(np.sum(n**2))\n",
    "\n",
    "Ap=nn[0]\n",
    "Bp=nn[1]\n",
    "Cp=nn[2]\n",
    "Kp1=-(Ap*v1[0]+Bp*v1[1]+Cp*v1[2])\n",
    "Kp=np.dot(nn,v1)\n",
    "\n",
    "print(Kp1,Kp)\n",
    "\n",
    "quants_ox=(\"x\",\"y\",\"z\",\"t\",\"v\",\"theta\",\"V./V\",\"dtau\",\"tau_dot\",\"slip\",\"sigma\",\"dmu_dtheta\",\"dmu_dv\")\n",
    "\n",
    "ins=['data/fort.1001','data/fort.1002','data/fort.1003']\n",
    "\n",
    "data1 = []\n",
    "data2 = []\n",
    "\n",
    "for i in range(len(ins)):\n",
    "    df = pd.read_csv(ins[i],skiprows=[0],header=None, names=quants_ox, delim_whitespace=True, comment='#')\n",
    "    df = df.apply(pd.to_numeric, errors='coerce')\n",
    "    df = df.drop_duplicates(subset=[\"t\", \"x\", \"y\", \"z\"], keep=\"first\")\n",
    "    for i in range(len(df['x'].to_numpy())):\n",
    "        pos = i\n",
    "        pp =[df['x'].to_numpy()[i],df['y'].to_numpy()[i],df['z'].to_numpy()[i]]\n",
    "        if np.abs(np.dot(nn,np.array(pp))-Kp)<1e-3:\n",
    "            data1.append(df.loc[pos])\n",
    "        else:\n",
    "            data2.append(df.loc[pos])    \n",
    "\n",
    "print(\"done!\")\n",
    "\n",
    "df1 = pd.DataFrame(data1)\n",
    "df2 = pd.DataFrame(data2)\n",
    "        \n",
    "df1.to_csv('data/f1.csv', index=False)\n",
    "df2.to_csv('data/f2.csv', index=False)   \n"
   ]
  },
  {
   "cell_type": "code",
   "execution_count": null,
   "metadata": {},
   "outputs": [],
   "source": []
  }
 ],
 "metadata": {
  "kernelspec": {
   "display_name": "Python 3 (ipykernel)",
   "language": "python",
   "name": "python3"
  },
  "language_info": {
   "codemirror_mode": {
    "name": "ipython",
    "version": 3
   },
   "file_extension": ".py",
   "mimetype": "text/x-python",
   "name": "python",
   "nbconvert_exporter": "python",
   "pygments_lexer": "ipython3",
   "version": "3.9.17"
  }
 },
 "nbformat": 4,
 "nbformat_minor": 5
}
